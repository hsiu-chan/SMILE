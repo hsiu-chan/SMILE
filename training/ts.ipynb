{
 "cells": [
  {
   "cell_type": "code",
   "execution_count": null,
   "metadata": {},
   "outputs": [],
   "source": [
    "files = glob.glob('/content/drive/Shareddrives/機器學習final/label_data/*.png')\n",
    "train_arr = []\n",
    "label_arr = []\n",
    "for f in files:\n",
    "  file_name = f.split('/')[-1]\n",
    "\n",
    "  image = cv2.imread('/content/drive/Shareddrives/機器學習final/data2/' + file_name)\n",
    "  label = cv2.imread(f,cv2.IMREAD_GRAYSCALE)\n",
    "\n",
    "  # image = np.array(image)\n",
    "  # label = np.array(label)\n",
    "  label = normalize(label)\n",
    "  \n",
    "  image = cv2.resize(image,(512,512))\n",
    "  label = cv2.resize(label,(512,512))\n",
    "  \n",
    "\n",
    "  # image = resize(image,desired_size=(512,512))\n",
    "  # label = resize(label,desired_size=(512.512))\n",
    "\n",
    "  train_arr.append(image)\n",
    "  label_arr.append(label)"
   ]
  }
 ],
 "metadata": {
  "language_info": {
   "name": "python"
  },
  "orig_nbformat": 4
 },
 "nbformat": 4,
 "nbformat_minor": 2
}
