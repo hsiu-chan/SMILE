{
 "cells": [
  {
   "cell_type": "markdown",
   "metadata": {},
   "source": [
    "# 讀標註完的"
   ]
  },
  {
   "cell_type": "code",
   "execution_count": 1,
   "metadata": {},
   "outputs": [
    {
     "data": {
      "text/plain": [
       "['./TrainData/labeled/0298.png',\n",
       " './TrainData/labeled/0267.png',\n",
       " './TrainData/labeled/0273.png',\n",
       " './TrainData/labeled/0065.png',\n",
       " './TrainData/labeled/0071.png',\n",
       " './TrainData/labeled/0059.png']"
      ]
     },
     "execution_count": 1,
     "metadata": {},
     "output_type": "execute_result"
    }
   ],
   "source": [
    "from os import listdir\n",
    "from os.path import isfile, isdir, join\n",
    "import json \n",
    "path='./TrainData/labeled/'\n",
    "\n",
    "files = listdir(path)\n",
    "\n",
    "all_path=[]\n",
    "for f in files:\n",
    "    if f.split('.')[-1]!='png':\n",
    "        continue\n",
    "    fullpath=path+f\n",
    "    if isfile(fullpath):\n",
    "        all_path.append(fullpath)\n",
    "    \n",
    "        \n",
    "all_path "
   ]
  },
  {
   "cell_type": "code",
   "execution_count": 3,
   "metadata": {},
   "outputs": [
    {
     "name": "stdout",
     "output_type": "stream",
     "text": [
      "{'id': '0298', 'mask': [[[0, 0], [0, 33], [32, 33], [33, 32], [34, 32], [32, 30], [32, 28], [31, 27], [31, 24], [30, 23], [30, 14], [34, 10], [35, 10], [36, 9], [37, 9], [38, 8], [37, 7], [37, 6], [34, 3], [34, 1], [33, 0]], [[2, 0], [1, 1], [0, 1], [0, 33], [32, 33], [33, 32], [34, 32], [32, 30], [32, 28], [31, 27], [31, 24], [30, 23], [30, 19], [29, 18], [29, 17], [30, 16], [30, 14], [34, 10], [35, 10], [34, 9], [36, 7], [36, 5], [35, 4], [34, 4], [33, 3], [33, 2], [32, 1], [31, 1], [30, 2], [28, 2], [27, 1], [26, 1], [25, 0]], [[37, 10], [36, 11], [35, 11], [34, 12], [33, 12], [31, 14], [31, 22], [32, 23], [32, 26], [33, 27], [33, 30], [37, 30], [37, 27], [38, 26], [38, 18], [39, 17], [39, 15], [40, 14], [40, 13], [39, 12], [39, 11], [38, 10]], [[41, 14], [41, 15], [40, 16], [40, 19], [39, 20], [39, 33], [48, 33], [48, 30], [47, 29], [47, 20], [48, 19], [48, 18], [50, 16], [51, 16], [52, 15], [52, 14]], [[51, 17], [49, 19], [49, 20], [48, 21], [48, 26], [49, 27], [49, 33], [64, 33], [64, 32], [65, 31], [65, 29], [64, 28], [64, 26], [63, 25], [63, 19], [58, 19], [57, 18], [56, 18], [55, 17]], [[72, 16], [71, 17], [65, 17], [64, 18], [65, 19], [65, 23], [66, 24], [66, 30], [67, 31], [66, 32], [67, 33], [82, 33], [82, 31], [81, 30], [81, 26], [80, 25], [80, 17], [79, 16]], [[83, 18], [82, 19], [82, 27], [83, 28], [83, 32], [84, 33], [99, 33], [99, 30], [98, 29], [98, 26], [97, 25], [97, 21], [96, 20], [96, 18]], [[114, 12], [113, 13], [110, 13], [109, 14], [108, 14], [107, 15], [104, 15], [103, 16], [101, 16], [100, 17], [99, 17], [98, 18], [98, 21], [99, 22], [99, 26], [100, 27], [100, 30], [101, 31], [101, 32], [102, 33], [111, 33], [112, 32], [113, 32], [114, 31], [115, 31], [116, 30], [118, 30], [121, 27], [121, 24], [120, 23], [120, 21], [119, 20], [119, 15], [118, 14], [118, 13], [117, 13], [116, 12]], [[128, 8], [122, 14], [122, 16], [121, 17], [121, 20], [122, 21], [122, 22], [123, 23], [123, 24], [124, 25], [125, 25], [128, 22], [129, 22], [131, 20], [132, 20], [133, 19], [134, 19], [135, 18], [136, 18], [137, 17], [138, 17], [139, 16], [139, 15], [140, 14], [140, 13], [139, 12], [139, 11], [138, 10], [137, 10], [136, 9], [135, 9], [134, 8]]], 'label': [-1, -1, '44', '43', '42', '41', '31', '31', '33']}\n"
     ]
    },
    {
     "data": {
      "image/png": "[encoded data removed]",
      "text/plain": [
       "<Figure size 640x480 with 1 Axes>"
      ]
     },
     "metadata": {},
     "output_type": "display_data"
    }
   ],
   "source": [
    "import matplotlib.pyplot as plt\n",
    "import io\n",
    "import cv2\n",
    "import numpy as np \n",
    "\n",
    "all_mask=[]\n",
    "for path in all_path:\n",
    "    fig=cv2.imread(path)\n",
    "    jpath=path.split('.')\n",
    "    jpath[-1]='json'\n",
    "    with open('.'.join(jpath)) as f:\n",
    "        data=json.load(f)\n",
    "    print(data)\n",
    "    all_mask.append(data)\n",
    "    plt.imshow(cv2.cvtColor(fig,cv2.COLOR_RGB2BGR))\n",
    "    for i in range(len(data['mask'])):\n",
    "        mask=np.array(data['mask'][i])\n",
    "        if data['label'][i]!=-1:\n",
    "            plt.text(np.mean(mask[:,0]), np.mean(mask[:,1]), data['label'][i])\n",
    "            plt.scatter(np.mean(mask[:,0]), np.mean(mask[:,1]))\n",
    "\n",
    "    break\n",
    "\n"
   ]
  },
  {
   "cell_type": "code",
   "execution_count": 29,
   "metadata": {},
   "outputs": [
    {
     "data": {
      "text/plain": [
       "[0, 38, 0, 33]"
      ]
     },
     "execution_count": 29,
     "metadata": {},
     "output_type": "execute_result"
    }
   ],
   "source": [
    "from lib.Polygon import Polygon\n",
    "\n",
    "a=Polygon(all_mask[0]['mask'][0])\n",
    "a.box"
   ]
  },
  {
   "cell_type": "code",
   "execution_count": 41,
   "metadata": {},
   "outputs": [],
   "source": [
    "import json\n",
    "import numpy as np\n",
    "import cv2\n",
    "import os\n",
    "import sys\n",
    "\n",
    "if sys.version_info[0] >= 3:\n",
    "    unicode = str\n",
    "# __author__ = 'hcaesar'\n",
    "\n",
    "import io\n",
    "\n",
    "# 实例的id，每个图像有多个物体每个物体的唯一id\n",
    "global segmentation_id\n",
    "segmentation_id = 0\n",
    "# annotations部分的实现\n",
    "def polyToanno(polygon_mask, image_id, category_id):\n",
    "    annotations = [] #一幅图片所有的annotatons\n",
    "    global segmentation_id\n",
    "    # print(ann_count)\n",
    "    # 对每个实例进行处理\n",
    "    for i in range(len(polygon_mask)):\n",
    "        \n",
    "        polygon=Polygon(polygon_mask[i])\n",
    "        \n",
    "        annotation = {\n",
    "            \"segmentation\": [],\n",
    "            \"area\": abs(polygon.area),\n",
    "            \"iscrowd\": 0,\n",
    "            \"image_id\": image_id,\n",
    "            \"bbox\": polygon.box,\n",
    "            \"category_id\": category_id,\n",
    "            \"id\": segmentation_id\n",
    "        }\n",
    "        # print(contour)\n",
    "        # 求segmentation部分\n",
    "        segmentation = polygon.points.ravel().tolist()\n",
    "        if len(segmentation)<=4:\n",
    "            continue\n",
    "        annotation[\"segmentation\"].append(segmentation)\n",
    "        annotations.append(annotation)\n",
    "        segmentation_id = segmentation_id + 1\n",
    "    return annotations\n",
    "\n",
    "class NumpyEncoder(json.JSONEncoder):\n",
    "    \"\"\" Custom encoder for numpy data types \"\"\"\n",
    "    def default(self, obj):\n",
    "        if isinstance(obj, (np.int_, np.intc, np.intp, np.int8,\n",
    "                            np.int16, np.int32, np.int64, np.uint8,\n",
    "                            np.uint16, np.uint32, np.uint64)):\n",
    "\n",
    "            return int(obj)\n",
    "\n",
    "        elif isinstance(obj, (np.float_, np.float16, np.float32, np.float64)):\n",
    "            return float(obj)\n",
    "\n",
    "        elif isinstance(obj, (np.complex_, np.complex64, np.complex128)):\n",
    "            return {'real': obj.real, 'imag': obj.imag}\n",
    "\n",
    "        elif isinstance(obj, (np.ndarray,)):\n",
    "            return obj.tolist()\n",
    "\n",
    "        elif isinstance(obj, (np.bool_)):\n",
    "            return bool(obj)\n",
    "\n",
    "        elif isinstance(obj, (np.void)): \n",
    "            return None\n",
    "\n",
    "        return json.JSONEncoder.default(self, obj)"
   ]
  },
  {
   "cell_type": "code",
   "execution_count": 39,
   "metadata": {},
   "outputs": [
    {
     "data": {
      "text/plain": [
       "[{'segmentation': [[0,\n",
       "    0,\n",
       "    0,\n",
       "    33,\n",
       "    32,\n",
       "    33,\n",
       "    33,\n",
       "    32,\n",
       "    34,\n",
       "    32,\n",
       "    32,\n",
       "    30,\n",
       "    32,\n",
       "    28,\n",
       "    31,\n",
       "    27,\n",
       "    31,\n",
       "    24,\n",
       "    30,\n",
       "    23,\n",
       "    30,\n",
       "    14,\n",
       "    34,\n",
       "    10,\n",
       "    35,\n",
       "    10,\n",
       "    36,\n",
       "    9,\n",
       "    37,\n",
       "    9,\n",
       "    38,\n",
       "    8,\n",
       "    37,\n",
       "    7,\n",
       "    37,\n",
       "    6,\n",
       "    34,\n",
       "    3,\n",
       "    34,\n",
       "    1,\n",
       "    33,\n",
       "    0]],\n",
       "  'area': 1071.0,\n",
       "  'iscrowd': 0,\n",
       "  'image_id': 1,\n",
       "  'bbox': [0, 38, 0, 33],\n",
       "  'category_id': 1,\n",
       "  'id': 0}]"
      ]
     },
     "execution_count": 39,
     "metadata": {},
     "output_type": "execute_result"
    }
   ],
   "source": [
    "tt=polyToanno([a.points], 1, 1)\n",
    "tt"
   ]
  },
  {
   "cell_type": "code",
   "execution_count": 43,
   "metadata": {},
   "outputs": [],
   "source": [
    "\n",
    "# mask图像路径\n",
    "block_mask_path = './TrainData/labeled/mask'\n",
    "block_mask_files = os.listdir(block_mask_path)\n",
    "# coco json保存的位置\n",
    "jsonPath = \"./TrainData/labeled/train.json\"\n",
    "annCount = 0\n",
    "imageCount = 0\n",
    "# 原图像的路径， 原图像和mask图像的名称是一致的。\n",
    "path = './TrainData/labeled/image'\n",
    "rgb_image_files = os.listdir(path)\n",
    "with io.open(jsonPath, 'w', encoding='utf8') as output:\n",
    "    # 那就全部写在一个文件夹好了\n",
    "    # 先写images的信息\n",
    "    output.write(unicode('{\\n'))\n",
    "    output.write(unicode('\"images\": [\\n'))\n",
    "    for image in rgb_image_files:\n",
    "        \n",
    "        output.write(unicode('{'))\n",
    "        annotation = {\n",
    "            \"height\": 512,\n",
    "            \"width\": 512,\n",
    "            \"id\": imageCount,\n",
    "            \"file_name\": image\n",
    "        }\n",
    "        str_ = json.dumps(annotation, indent=4)\n",
    "        str_ = str_[1:-1]\n",
    "        if len(str_) > 0:\n",
    "            output.write(unicode(str_))\n",
    "            imageCount = imageCount + 1\n",
    "        if (image == rgb_image_files[-1]):\n",
    "            output.write(unicode('}\\n'))\n",
    "        else:\n",
    "            output.write(unicode('},\\n'))\n",
    "    output.write(unicode('],\\n'))\n",
    "    # 接下来写cate\n",
    "    output.write(unicode('\"categories\": [\\n'))\n",
    "    output.write(unicode('{\\n'))\n",
    "    categories = {\n",
    "        \"supercategory\": \"Building\",\n",
    "        \"id\": 1,\n",
    "        \"name\": \"Building\"\n",
    "    }\n",
    "    str_ = json.dumps(categories, indent=4)\n",
    "    str_ = str_[1:-1]\n",
    "    if len(str_) > 0:\n",
    "        output.write(unicode(str_))\n",
    "    output.write(unicode('}\\n'))\n",
    "    output.write(unicode('],\\n'))\n",
    "# 写annotations\n",
    "    output.write(unicode('\"annotations\": [\\n'))\n",
    "    for i in range(len(block_mask_files)):\n",
    "        \n",
    "        #       print(block_image)\n",
    "       \n",
    "        \n",
    "\n",
    "\n",
    "        with open(os.path.join(block_mask_path, block_mask_files[i])) as f:\n",
    "            data=json.load(f)\n",
    "\n",
    "\n",
    "        block_anno = polyToanno(data['mask'], annCount, 1)\n",
    "        \n",
    "        \n",
    "        for b in block_anno:\n",
    "            #print (b)\n",
    "            str_block = json.dumps(b, indent=4,cls=NumpyEncoder)\n",
    "            str_block = str_block[1:-1]\n",
    "            if len(str_block) > 0:\n",
    "                output.write(unicode('{\\n'))\n",
    "                output.write(unicode(str_block))\n",
    "                if ( b == block_anno[-1]):\n",
    "                    output.write(unicode('}\\n'))\n",
    "                else:\n",
    "                    output.write(unicode('},\\n'))\n",
    "        annCount = annCount + 1\n",
    "    output.write(unicode(']\\n'))\n",
    "    output.write(unicode('}\\n'))\n",
    "\n",
    "\n",
    "\n"
   ]
  },
  {
   "cell_type": "code",
   "execution_count": 26,
   "metadata": {},
   "outputs": [
    {
     "data": {
      "text/plain": [
       "['2023-09-14-17:14:38.json', '0111.json']"
      ]
     },
     "execution_count": 26,
     "metadata": {},
     "output_type": "execute_result"
    }
   ],
   "source": [
    "block_mask_path = './TrainData/labeled/mask'\n",
    "block_mask_files = os.listdir(block_mask_path)\n",
    "block_mask_files"
   ]
  },
  {
   "cell_type": "code",
   "execution_count": null,
   "metadata": {},
   "outputs": [],
   "source": [
    "from lib.SMILE import SMILE\n"
   ]
  },
  {
   "cell_type": "code",
   "execution_count": null,
   "metadata": {},
   "outputs": [],
   "source": [
    "\n",
    "from lib.SMILE import SMILE\n",
    "import numpy as np\n",
    "import json\n",
    "from tqdm import tqdm, trange\n",
    "now=1\n",
    "\n",
    "times = 0\n",
    "progress = tqdm(total=len(all_path))\n",
    "\n",
    "for f in all_path:\n",
    "    smile=SMILE(f,\"\")\n",
    "    filename=str(now).zfill(4)\n",
    "    smile.find_all_tooth()\n",
    "    cv2.imwrite(f\"{output_path}{filename}.png\", smile.boximg)\n",
    "\n",
    "\n",
    "    #plt.imshow(cv2.cvtColor(smile.boximg,cv2.COLOR_RGB2BGR))\n",
    "    #plt.axis('on')\n",
    "    #plt.savefig(f\"mask/{filename}.png\",bbox_inches='tight',pad_inches=0.0)\n",
    "    with open(f\"{output_path}{filename}.json\", 'w') as  f:\n",
    "        json.dump([p.tolist() for p in smile.tooth.polygons], f)\n",
    "    now+=1\n",
    "    progress.update(1)\n",
    "\n",
    "\n"
   ]
  },
  {
   "cell_type": "code",
   "execution_count": null,
   "metadata": {},
   "outputs": [],
   "source": [
    "import numpy as np\n",
    "import json\n",
    "from tqdm import tqdm, trange\n",
    "id=1\n",
    "\n",
    "with open(f\"{output_path}{str(id).zfill(4)}.json\") as f:\n",
    "    tooth = json.load(f)\n",
    "fig=cv2.imread(f\"{output_path}{str(id).zfill(4)}.png\")\n",
    "\n",
    "for teeth in tooth:\n",
    "    teeth=np.array(teeth)\n",
    "    plt.axis('off')\n",
    "    plt.imshow(cv2.cvtColor(fig,cv2.COLOR_RGB2BGR))\n",
    "    plt.fill(teeth[:,0],teeth[:,1])\n",
    "    plt.show()\n"
   ]
  },
  {
   "cell_type": "code",
   "execution_count": null,
   "metadata": {},
   "outputs": [],
   "source": [
    "str(id).zfill(4)"
   ]
  },
  {
   "cell_type": "code",
   "execution_count": null,
   "metadata": {},
   "outputs": [],
   "source": []
  }
 ],
 "metadata": {
  "kernelspec": {
   "display_name": "coding",
   "language": "python",
   "name": "python3"
  },
  "language_info": {
   "codemirror_mode": {
    "name": "ipython",
    "version": 3
   },
   "file_extension": ".py",
   "mimetype": "text/x-python",
   "name": "python",
   "nbconvert_exporter": "python",
   "pygments_lexer": "ipython3",
   "version": "3.9.16"
  },
  "orig_nbformat": 4
 },
 "nbformat": 4,
 "nbformat_minor": 2
}
