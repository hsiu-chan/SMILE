{
 "cells": [
  {
   "cell_type": "code",
   "execution_count": 101,
   "metadata": {},
   "outputs": [],
   "source": [
    "from lib.Base64 import path_to_base64\n",
    "from skimage import io\n",
    "import numpy as np\n",
    "#from PIL import Image\n",
    "import cv2\n",
    "import mediapipe as mp\n",
    "#from segment_anything \n",
    "from lib.segment_anything import sam_model_registry, SamAutomaticMaskGenerator, SamPredictor\n",
    "import os\n",
    "import json\n",
    "import matplotlib.pyplot as plt\n",
    "import sys\n",
    "\n",
    "\n",
    "\n",
    "sys.path.append(\"..\")\n",
    "sam_checkpoint = f\"{os.path.abspath(os.getcwd())}/lib/sam_vit_h_4b8939.pth\"\n",
    "model_type = \"default\"\n",
    "sam = sam_model_registry[model_type](checkpoint=sam_checkpoint)\n",
    "sam.to(\n",
    "    #device='mps'\n",
    "    )\n",
    "\n",
    "predictor = SamPredictor(sam)\n",
    "mask_generator = SamAutomaticMaskGenerator(model=sam,\n",
    "    points_per_side=None,\n",
    "    pred_iou_thresh=0.86,\n",
    "    stability_score_thresh=0.92,\n",
    "    crop_n_layers=1,\n",
    "    crop_n_points_downscale_factor=2,\n",
    "    min_mask_region_area=20,\n",
    "    point_grids=[[[0.5,0.5]],[[0.4,0.5]],[[0.6,0.5]]])"
   ]
  },
  {
   "cell_type": "code",
   "execution_count": 102,
   "metadata": {},
   "outputs": [],
   "source": [
    "class SMILE:\n",
    "    def __init__(self,input_path,out_dir):\n",
    "        self.input_path=input_path \n",
    "        self.out_dir=out_dir\n",
    "\n",
    "\n",
    "        img=io.imread(input_path)\n",
    "        h, w ,d= img.shape\n",
    "        self.img=cv2.resize(img, (512, int(512*h/w)), interpolation=cv2.INTER_AREA)\n",
    "        self.img=cv2.cvtColor(self.img,cv2.COLOR_RGB2BGR)\n",
    "        self.shape=self.img.shape\n",
    "\n",
    "        self.mouse=[]\n",
    "        self.box=[]\n",
    "        self.boximg=[]\n",
    "        self.result=[]\n",
    "\n",
    "        \n",
    "        \n",
    "        self.cuted=[]\n",
    "        self.mask={}\n",
    "        self.out_path=out_dir\n",
    "        self.output=f\"output.{input_path.split('.')[-1]}\"\n",
    "        self.base64=''\n",
    "\n",
    "        pass\n",
    "\n",
    "    def set_predictor(self):\n",
    "        try:\n",
    "            self.box[1]\n",
    "        except:\n",
    "            self.find_mouse()\n",
    "        predictor.set_image(self.boximg)\n",
    "    \n",
    "    def predict(point):\n",
    "        masks, scores, logits = predictor.predict(\n",
    "        point_coords=np.array(point),\n",
    "        point_labels=np.array([1]*len(point)),\n",
    "        multimask_output=True,\n",
    "        )\n",
    "        sorted_mask = sorted(list(zip(masks, scores)), key=(lambda x: x[1]), reverse=True)\n",
    "        mask=sorted_mask[0][0]\n",
    "        mask=np.array(mask, dtype='uint8')\n",
    "\n",
    "        #plt.imshow(self.boximg)\n",
    "        #show_mask(mask[0], plt.gca())\n",
    "        #plt.axis('off')\n",
    "        #plt.savefig(self.output)\n",
    "        #self.base64=path_to_base64(self.output)\n",
    "\n",
    "        contours, hierarchy = cv2.findContours(mask*255, cv2.RETR_TREE, cv2.CHAIN_APPROX_SIMPLE)\n",
    "\n",
    "        pol=contours[0].reshape(-1,2)\n",
    "\n",
    "\n",
    "\n",
    "    \n",
    "        return pol,f'{sorted_mask[0][1]:.3f}'\n",
    "    \n",
    "        \n",
    "        \n",
    "\n",
    "    \"\"\"def gen_mask(self):\n",
    "        try:\n",
    "            self.box[1]\n",
    "        except:\n",
    "            self.find_mouse()\n",
    "        \n",
    "        self.masks = mask_generator.generate(self.img[self.box[2]-5:self.box[3]+5,self.box[0]-5:self.box[1]+5])\n",
    "        self.masks  = sorted(self.masks , key=(lambda x: x['area']), reverse=True)\"\"\"\n",
    "\n",
    "\n",
    "\n",
    "    def cut(self, pol):\n",
    "        pol=np.array([pol], np.int32)\n",
    "        #遮片\n",
    "        mask=np.zeros(self.img.shape[:2], np.uint8)\n",
    "        #多邊形填上白色\n",
    "        cv2.polylines(mask, [pol], isClosed=True,color=(255,255,255), thickness=1)\n",
    "        cv2.fillPoly(mask,pol,255)\n",
    "        \n",
    "        dst=cv2.bitwise_and(self.img, self.img, mask=mask)\n",
    "        return dst\n",
    "    \n",
    "    def find_mouse(self):\n",
    "        h, w, d = self.img.shape\n",
    "        mp_face_detection = mp.solutions.face_detection\n",
    "        mp_face_mesh = mp.solutions.face_mesh\n",
    "        face_mesh=mp_face_mesh.FaceMesh(\n",
    "            min_detection_confidence=0.2,\n",
    "            min_tracking_confidence=0.2)\n",
    "    #嘴巴\n",
    "        mouse=[62,96,89,179,86,15,316,403,319,325,292,407,272,271,268,12,38,41,42,183]\n",
    "        lip=[78,95,88,178,87,14,317,402,318,324,308,415,310,311,312,13,82,81,80,191]#嘴唇\n",
    "    \n",
    "        #########################openCV辨識嘴 #########################\n",
    "        RGBim = cv2.cvtColor(self.img, cv2.COLOR_BGR2RGB)\n",
    "        results = face_mesh.process(RGBim)\n",
    "        if results.multi_face_landmarks:\n",
    "            for face_landmarks in results.multi_face_landmarks:\n",
    "                #for index in mouse:\n",
    "                for index in lip:\n",
    "                    x = int(face_landmarks.landmark[index].x * w)\n",
    "                    y = int(face_landmarks.landmark[index].y * h)\n",
    "                    self.mouse.append([x,y])\n",
    "        self.mouse=np.array(self.mouse)\n",
    "        \n",
    "        \"\"\"mousep_b=[]\n",
    "        if results.multi_face_landmarks:\n",
    "            for face_landmarks in results.multi_face_landmarks:\n",
    "                for index in mouse:\n",
    "                    x = int(face_landmarks.landmark[index].x * w)\n",
    "                    y = int(face_landmarks.landmark[index].y * h)\n",
    "                    mousep_b.append([x,y])\n",
    "        mousep_b=np.array(mousep_b)\"\"\"\n",
    "\n",
    "        \n",
    "        #找 marker\n",
    "        umos=min(self.mouse[:,1])#嘴上緣\n",
    "        dmos=max(self.mouse[:,1])#嘴下緣\n",
    "        lmos=min(self.mouse[:,0])#嘴左緣\n",
    "        rmos=max(self.mouse[:,0])#嘴右緣\n",
    "        wmos=rmos-lmos#嘴寬\n",
    "        hmos=dmos-umos#嘴高\n",
    "        mmos=[int((lmos+rmos)/2),int((umos+dmos)/2)]#嘴中心\n",
    "\n",
    "        self.box=np.array([lmos,rmos,umos,dmos])\n",
    "        self.boximg=self.img[self.box[2]-5:self.box[3]+5,self.box[0]-5:self.box[1]+5]\n",
    "\n",
    "        cv2.imwrite(self.output\n",
    "                    ,self.boximg)\n",
    "        self.base64=path_to_base64(self.output)\n",
    "\n",
    "        \n",
    "        \n",
    "        \n",
    "        ##self.cuted=self.cut( self.mouse)\n",
    "        \n",
    "        return self.box\n",
    "    \n",
    "    def show_box(self):\n",
    "        path=f\"{self.out_dir}/{self.input_path.split('/')[-1]}\"\n",
    "\n",
    "        cv2.imwrite(path\n",
    "                    ,self.boximg)\n",
    "        return path_to_base64(path)\n",
    "    \n",
    "    \n",
    "\n",
    "\n",
    "    \n",
    "\n",
    "\n",
    "        \n",
    "\n",
    "\n",
    "    \n",
    "\n",
    "\n",
    "    def show_anns(self):\n",
    "        import matplotlib.pyplot as plt\n",
    "\n",
    "        if len(self.masks) == 0:\n",
    "            return\n",
    "\n",
    "        ax = plt.gca()\n",
    "        ax.set_autoscale_on(False)\n",
    "        polygons = []\n",
    "        color = []\n",
    "        figsize=self.box[1]-self.box[0]\n",
    "        for ann in self.mask:\n",
    "            #print(ann)\n",
    "            if (ann['area']>figsize/10) ^ (ann['area']<figsize/200):\n",
    "                continue\n",
    "\n",
    "            \n",
    "            m = ann['segmentation']\n",
    "            img = np.ones((m.shape[0], m.shape[1], 3))\n",
    "            color_mask = np.random.random((1, 3)).tolist()[0]\n",
    "            for i in range(3):\n",
    "                img[:,:,i] = color_mask[i]\n",
    "            ax.imshow(np.dstack((img, m*0.35)))\n",
    "        plt.axis('off')\n",
    "\n",
    "        path=f\"{self.out_dir}/ooouuuttt{self.input_path.split('.')[-1]}\"\n",
    "        plt.savefig(path)\n",
    "        return path_to_base64(path)\n",
    "        #plt.show()\n",
    "\n",
    "\n",
    "\n",
    "\n",
    "def SMILE_0(path):\n",
    "    ########圖像處理########\n",
    "    def cut(img, pol):\n",
    "        pol=np.array([pol], np.int32)\n",
    "        #遮片\n",
    "        mask=np.zeros(img.shape[:2], np.uint8)\n",
    "        #多邊形填上白色\n",
    "        cv2.polylines(mask, [pol], isClosed=True,color=(255,255,255), thickness=1)\n",
    "        cv2.fillPoly(mask,pol,255)\n",
    "        \n",
    "        dst=cv2.bitwise_and(img, img, mask=mask)\n",
    "        return dst\n",
    "\n",
    "\n",
    "    img=io.imread(path)\n",
    "    h, w ,d= img.shape\n",
    "    img=cv2.resize(img, (1000, int(1000*h/w)), interpolation=cv2.INTER_AREA)\n",
    "    pol=np.array([[110,200],[300,400],[160,50]])\n",
    "    #pol= np.array([[200, 200], [300, 100], [300, 200], [200, 200], [200, 250]], np.int32)\n",
    "    img=cut(img,pol)\n",
    "\n",
    "\n",
    "\n",
    "    result = cv2.cvtColor(img,cv2.COLOR_RGB2GRAY)\n",
    "    #######輸出#####\n",
    "    out_path='output.jpg'\n",
    "    cv2.imwrite(out_path, img)\n",
    "    \n",
    "    \n",
    "    \n",
    "    return path_to_base64(out_path)\n",
    "    #return 'a'    \n",
    "    \n"
   ]
  },
  {
   "cell_type": "code",
   "execution_count": 103,
   "metadata": {},
   "outputs": [],
   "source": [
    "\n",
    "filename = \"upload_fig/{}.{}\".format('input', 'png')\n",
    "\n",
    "nowfig=SMILE(filename,'output' )\n",
    "nowfig.find_mouse()\n",
    "nowfig.set_predictor()\n",
    "#nowfig.predict()"
   ]
  },
  {
   "cell_type": "code",
   "execution_count": 113,
   "metadata": {},
   "outputs": [
    {
     "data": {
      "text/plain": [
       "{'Pol': array([[46,  8],\n",
       "        [45,  9],\n",
       "        [43,  9],\n",
       "        [42, 10],\n",
       "        [42, 23],\n",
       "        [43, 24],\n",
       "        [43, 26],\n",
       "        [45, 28],\n",
       "        [46, 28],\n",
       "        [47, 29],\n",
       "        [54, 29],\n",
       "        [55, 28],\n",
       "        [55, 26],\n",
       "        [56, 25],\n",
       "        [56, 23],\n",
       "        [57, 22],\n",
       "        [58, 22],\n",
       "        [58, 16],\n",
       "        [57, 15],\n",
       "        [57, 14],\n",
       "        [53, 10],\n",
       "        [52, 10],\n",
       "        [51,  9],\n",
       "        [49,  9],\n",
       "        [48,  8]], dtype=int32),\n",
       " 'sc': '0.998'}"
      ]
     },
     "execution_count": 113,
     "metadata": {},
     "output_type": "execute_result"
    }
   ],
   "source": [
    "arr=np.array([[50.8,14]])\n",
    "pol,sc=SMILE.predict([[50,14]])\n",
    "\n",
    "{'Pol':pol, 'sc':sc}"
   ]
  },
  {
   "cell_type": "code",
   "execution_count": 34,
   "metadata": {},
   "outputs": [
    {
     "data": {
      "image/png": "[encoded data removed]",
      "text/plain": [
       "<Figure size 1000x1000 with 1 Axes>"
      ]
     },
     "metadata": {},
     "output_type": "display_data"
    }
   ],
   "source": [
    "input_point=np.array([[50, 14]])\n",
    "input_label=np.array([1])\n",
    "def show_points(coords, labels, ax, marker_size=375):\n",
    "    pos_points = coords[labels==1]\n",
    "    neg_points = coords[labels==0]\n",
    "    ax.scatter(pos_points[:, 0], pos_points[:, 1], color='green', marker='*', s=marker_size, edgecolor='white', linewidth=1.25)\n",
    "    ax.scatter(neg_points[:, 0], neg_points[:, 1], color='red', marker='*', s=marker_size, edgecolor='white', linewidth=1.25)\n",
    "def show_mask(mask, ax, random_color=False):\n",
    "    if random_color:\n",
    "        color = np.concatenate([np.random.random(3), np.array([0.6])], axis=0)\n",
    "    else:\n",
    "        color = np.array([30/255, 144/255, 255/255, 0.6])\n",
    "    h, w = mask.shape[-2:]\n",
    "    mask_image = mask.reshape(h, w, 1) * color.reshape(1, 1, -1)\n",
    "    ax.imshow(mask_image)\n",
    "\n",
    "plt.figure(figsize=(10,10))\n",
    "plt.imshow(nowfig.boximg)\n",
    "show_points(input_point, input_label, plt.gca())\n",
    "plt.axis('on')\n",
    "plt.show() "
   ]
  },
  {
   "cell_type": "code",
   "execution_count": 35,
   "metadata": {},
   "outputs": [],
   "source": [
    "masks, scores, logits = predictor.predict(\n",
    "    point_coords=input_point,\n",
    "    point_labels=input_label,\n",
    "    multimask_output=True,\n",
    ")"
   ]
  },
  {
   "cell_type": "code",
   "execution_count": 71,
   "metadata": {},
   "outputs": [
    {
     "ename": "NameError",
     "evalue": "name 'point' is not defined",
     "output_type": "error",
     "traceback": [
      "\u001b[0;31m---------------------------------------------------------------------------\u001b[0m",
      "\u001b[0;31mNameError\u001b[0m                                 Traceback (most recent call last)",
      "\u001b[0;32m/var/folders/2x/640nxgzd2hgbdpj0ljc7fwbc0000gn/T/ipykernel_75991/742577213.py\u001b[0m in \u001b[0;36m<module>\u001b[0;34m\u001b[0m\n\u001b[1;32m      5\u001b[0m     \u001b[0mshow_points\u001b[0m\u001b[0;34m(\u001b[0m\u001b[0minput_point\u001b[0m\u001b[0;34m,\u001b[0m \u001b[0minput_label\u001b[0m\u001b[0;34m,\u001b[0m \u001b[0mplt\u001b[0m\u001b[0;34m.\u001b[0m\u001b[0mgca\u001b[0m\u001b[0;34m(\u001b[0m\u001b[0;34m)\u001b[0m\u001b[0;34m)\u001b[0m\u001b[0;34m\u001b[0m\u001b[0;34m\u001b[0m\u001b[0m\n\u001b[1;32m      6\u001b[0m     \u001b[0mplt\u001b[0m\u001b[0;34m.\u001b[0m\u001b[0mtitle\u001b[0m\u001b[0;34m(\u001b[0m\u001b[0;34mf\"Mask {i+1}, Score: {score:.3f}\"\u001b[0m\u001b[0;34m,\u001b[0m \u001b[0mfontsize\u001b[0m\u001b[0;34m=\u001b[0m\u001b[0;36m18\u001b[0m\u001b[0;34m)\u001b[0m\u001b[0;34m\u001b[0m\u001b[0;34m\u001b[0m\u001b[0m\n\u001b[0;32m----> 7\u001b[0;31m     \u001b[0mshow_points\u001b[0m\u001b[0;34m(\u001b[0m\u001b[0mpoint\u001b[0m\u001b[0;34m,\u001b[0m\u001b[0;34m[\u001b[0m\u001b[0;36m1\u001b[0m\u001b[0;34m]\u001b[0m\u001b[0;34m*\u001b[0m\u001b[0mlen\u001b[0m\u001b[0;34m(\u001b[0m\u001b[0mpoint\u001b[0m\u001b[0;34m)\u001b[0m\u001b[0;34m,\u001b[0m \u001b[0mplt\u001b[0m\u001b[0;34m.\u001b[0m\u001b[0mgca\u001b[0m\u001b[0;34m(\u001b[0m\u001b[0;34m)\u001b[0m\u001b[0;34m)\u001b[0m\u001b[0;34m\u001b[0m\u001b[0;34m\u001b[0m\u001b[0m\n\u001b[0m\u001b[1;32m      8\u001b[0m     \u001b[0mplt\u001b[0m\u001b[0;34m.\u001b[0m\u001b[0maxis\u001b[0m\u001b[0;34m(\u001b[0m\u001b[0;34m'off'\u001b[0m\u001b[0;34m)\u001b[0m\u001b[0;34m\u001b[0m\u001b[0;34m\u001b[0m\u001b[0m\n\u001b[1;32m      9\u001b[0m     \u001b[0mplt\u001b[0m\u001b[0;34m.\u001b[0m\u001b[0mshow\u001b[0m\u001b[0;34m(\u001b[0m\u001b[0;34m)\u001b[0m\u001b[0;34m\u001b[0m\u001b[0;34m\u001b[0m\u001b[0m\n",
      "\u001b[0;31mNameError\u001b[0m: name 'point' is not defined"
     ]
    },
    {
     "data": {
      "image/png": "[encoded data removed]",
      "text/plain": [
       "<Figure size 1000x1000 with 1 Axes>"
      ]
     },
     "metadata": {},
     "output_type": "display_data"
    }
   ],
   "source": [
    "for i, (mask, score) in enumerate(zip(masks, scores)):\n",
    "    plt.figure(figsize=(10,10))\n",
    "    plt.imshow(nowfig.boximg)\n",
    "    show_mask(mask, plt.gca())\n",
    "    show_points(input_point, input_label, plt.gca())\n",
    "    plt.title(f\"Mask {i+1}, Score: {score:.3f}\", fontsize=18)\n",
    "    show_points(point,[1]*len(point), plt.gca())\n",
    "    plt.axis('off')\n",
    "    plt.show()  "
   ]
  },
  {
   "cell_type": "code",
   "execution_count": 72,
   "metadata": {},
   "outputs": [
    {
     "data": {
      "text/plain": [
       "array([1, 1, 1, 1, 1, 1, 1, 1, 1])"
      ]
     },
     "execution_count": 72,
     "metadata": {},
     "output_type": "execute_result"
    }
   ],
   "source": [
    "np.array([1]*9\n",
    "         )"
   ]
  },
  {
   "cell_type": "code",
   "execution_count": 73,
   "metadata": {},
   "outputs": [
    {
     "data": {
      "text/plain": [
       "<matplotlib.image.AxesImage at 0x7fc170628f40>"
      ]
     },
     "execution_count": 73,
     "metadata": {},
     "output_type": "execute_result"
    },
    {
     "data": {
      "image/png": "[encoded data removed]",
      "text/plain": [
       "<Figure size 640x480 with 1 Axes>"
      ]
     },
     "metadata": {},
     "output_type": "display_data"
    }
   ],
   "source": [
    "w,h=mask.shape\n",
    "new=mask.reshape(h, w, 1)*1\n",
    "\n",
    "color = np.array([30/255, 144/255, 255/255, 0.6])\n",
    "h, w = mask.shape[-2:]\n",
    "mask_image = mask.reshape(h, w, 1) * color.reshape(1, 1, -1)\n",
    "plt.gca().imshow(mask_image)"
   ]
  },
  {
   "cell_type": "code",
   "execution_count": 78,
   "metadata": {},
   "outputs": [
    {
     "data": {
      "text/plain": [
       "array([[0, 0, 0, ..., 0, 0, 0],\n",
       "       [0, 0, 0, ..., 0, 0, 0],\n",
       "       [0, 0, 0, ..., 0, 0, 0],\n",
       "       ...,\n",
       "       [0, 0, 0, ..., 0, 0, 0],\n",
       "       [0, 0, 0, ..., 0, 0, 0],\n",
       "       [0, 0, 0, ..., 0, 0, 0]], dtype=uint8)"
      ]
     },
     "execution_count": 78,
     "metadata": {},
     "output_type": "execute_result"
    }
   ],
   "source": [
    "mask*1\n",
    "np.array(mask, dtype='uint8')"
   ]
  },
  {
   "cell_type": "code",
   "execution_count": 69,
   "metadata": {},
   "outputs": [
    {
     "data": {
      "image/png": "[encoded data removed]",
      "text/plain": [
       "<Figure size 640x480 with 1 Axes>"
      ]
     },
     "metadata": {},
     "output_type": "display_data"
    }
   ],
   "source": [
    "arr=list(zip(masks, scores))\n",
    "sorted_arr = sorted(arr, key=(lambda x: x[1]), reverse=True)\n",
    "show_mask(sorted_arr[0][0], plt.gca())"
   ]
  },
  {
   "cell_type": "code",
   "execution_count": 91,
   "metadata": {},
   "outputs": [
    {
     "data": {
      "image/png": "[encoded data removed]",
      "text/plain": [
       "<Figure size 640x480 with 1 Axes>"
      ]
     },
     "metadata": {},
     "output_type": "display_data"
    }
   ],
   "source": [
    "plt.imshow(mask)\n",
    "plt.show()"
   ]
  },
  {
   "cell_type": "code",
   "execution_count": 100,
   "metadata": {},
   "outputs": [
    {
     "data": {
      "text/plain": [
       "array([[46,  8],\n",
       "       [45,  9],\n",
       "       [43,  9],\n",
       "       [42, 10],\n",
       "       [42, 23],\n",
       "       [43, 24],\n",
       "       [43, 26],\n",
       "       [45, 28],\n",
       "       [46, 28],\n",
       "       [47, 29],\n",
       "       [54, 29],\n",
       "       [55, 28],\n",
       "       [55, 26],\n",
       "       [56, 25],\n",
       "       [56, 23],\n",
       "       [57, 22],\n",
       "       [58, 22],\n",
       "       [58, 16],\n",
       "       [57, 15],\n",
       "       [57, 14],\n",
       "       [53, 10],\n",
       "       [52, 10],\n",
       "       [51,  9],\n",
       "       [49,  9],\n",
       "       [48,  8]], dtype=int32)"
      ]
     },
     "execution_count": 100,
     "metadata": {},
     "output_type": "execute_result"
    }
   ],
   "source": [
    "polygons = []\n",
    "mask=np.array(mask, dtype='uint8')\n",
    "contours, hierarchy = cv2.findContours(mask*255, cv2.RETR_TREE, cv2.CHAIN_APPROX_SIMPLE)\n",
    "\n",
    "\n",
    "contours[0].reshape(-1,2)\n",
    "\n"
   ]
  },
  {
   "cell_type": "code",
   "execution_count": 87,
   "metadata": {},
   "outputs": [
    {
     "data": {
      "text/plain": [
       "True"
      ]
     },
     "execution_count": 87,
     "metadata": {},
     "output_type": "execute_result"
    }
   ],
   "source": [
    "\n",
    "\n",
    "b  = np.array([[[100,100],  [250,100], [300,220],[100,230]]], dtype = np.int32)\n",
    "\n",
    "im = np.zeros([100,100], dtype = \"uint8\")\n",
    "cv2.polylines(im, b, 1, 255)\n",
    "cv2.fillPoly(im, b, 255)\n",
    "\n",
    "mask2 = im\n"
   ]
  },
  {
   "cell_type": "code",
   "execution_count": 16,
   "metadata": {},
   "outputs": [],
   "source": [
    "\n",
    "from typing import Any, Dict, Generator, ItemsView, List, Tuple\n",
    "\n",
    "def build_point_grid(n_per_side: int) -> np.ndarray:\n",
    "    \"\"\"Generates a 2D grid of points evenly spaced in [0,1]x[0,1].\"\"\"\n",
    "    offset = 1 / (2 * n_per_side)\n",
    "    points_one_side = np.linspace(offset, 1 - offset, n_per_side)\n",
    "    points_x = np.tile(points_one_side[None, :], (n_per_side, 1))\n",
    "    points_y = np.tile(points_one_side[:, None], (1, n_per_side))\n",
    "    points = np.stack([points_x, points_y], axis=-1).reshape(-1, 2)\n",
    "    return points\n",
    "def build_all_layer_point_grids(\n",
    "    n_per_side: int, n_layers: int, scale_per_layer: int\n",
    ") -> List[np.ndarray]:\n",
    "    \"\"\"Generates point grids for all crop layers.\"\"\"\n",
    "    points_by_layer = []\n",
    "    for i in range(n_layers + 1):\n",
    "        n_points = int(n_per_side / (scale_per_layer**i))\n",
    "        points_by_layer.append(build_point_grid(n_points))\n",
    "    return points_by_layer"
   ]
  },
  {
   "cell_type": "code",
   "execution_count": 29,
   "metadata": {},
   "outputs": [
    {
     "data": {
      "text/plain": [
       "array([[0.68333333, 0.21666667],\n",
       "       [0.71666667, 0.21666667],\n",
       "       [0.75      , 0.21666667],\n",
       "       [0.78333333, 0.21666667],\n",
       "       [0.81666667, 0.21666667],\n",
       "       [0.85      , 0.21666667],\n",
       "       [0.88333333, 0.21666667],\n",
       "       [0.91666667, 0.21666667],\n",
       "       [0.95      , 0.21666667],\n",
       "       [0.98333333, 0.21666667],\n",
       "       [0.01666667, 0.25      ],\n",
       "       [0.05      , 0.25      ],\n",
       "       [0.08333333, 0.25      ],\n",
       "       [0.11666667, 0.25      ],\n",
       "       [0.15      , 0.25      ],\n",
       "       [0.18333333, 0.25      ],\n",
       "       [0.21666667, 0.25      ],\n",
       "       [0.25      , 0.25      ],\n",
       "       [0.28333333, 0.25      ],\n",
       "       [0.31666667, 0.25      ],\n",
       "       [0.35      , 0.25      ],\n",
       "       [0.38333333, 0.25      ],\n",
       "       [0.41666667, 0.25      ],\n",
       "       [0.45      , 0.25      ],\n",
       "       [0.48333333, 0.25      ],\n",
       "       [0.51666667, 0.25      ],\n",
       "       [0.55      , 0.25      ],\n",
       "       [0.58333333, 0.25      ],\n",
       "       [0.61666667, 0.25      ],\n",
       "       [0.65      , 0.25      ]])"
      ]
     },
     "execution_count": 29,
     "metadata": {},
     "output_type": "execute_result"
    }
   ],
   "source": [
    "a=build_all_layer_point_grids(\n",
    "                30,\n",
    "                0,\n",
    "                2,\n",
    "            )\n",
    "np.array(a)\n",
    "a[0][200:230]"
   ]
  },
  {
   "cell_type": "code",
   "execution_count": 1,
   "metadata": {},
   "outputs": [
    {
     "name": "stdout",
     "output_type": "stream",
     "text": [
      "c:\\gits\\SMILE\\app\\lib\n"
     ]
    }
   ],
   "source": [
    "from lib.SMILE import SMILE\n",
    "\n",
    "filename = \"upload_fig/{}.{}\".format('input', 'png')\n",
    "\n",
    "nowfig=SMILE(filename,'output' )\n",
    "nowfig.find_mouse()\n",
    "nowfig.set_predictor()\n",
    "#nowfig.predict()\n"
   ]
  },
  {
   "cell_type": "code",
   "execution_count": 2,
   "metadata": {},
   "outputs": [
    {
     "data": {
      "text/plain": [
       "(array([[0.   , 0.12 ],\n",
       "        [0.   , 0.308],\n",
       "        [3.143, 0.308],\n",
       "        [3.143, 0.188],\n",
       "        [3.119, 0.188],\n",
       "        [3.095, 0.18 ],\n",
       "        [3.   , 0.18 ],\n",
       "        [2.976, 0.188],\n",
       "        [2.929, 0.188],\n",
       "        [2.929, 0.195],\n",
       "        [2.905, 0.203],\n",
       "        [2.905, 0.211],\n",
       "        [2.881, 0.218],\n",
       "        [2.881, 0.226],\n",
       "        [2.857, 0.233],\n",
       "        [2.738, 0.233],\n",
       "        [2.714, 0.226],\n",
       "        [2.381, 0.226],\n",
       "        [2.357, 0.233],\n",
       "        [2.167, 0.233],\n",
       "        [2.143, 0.226],\n",
       "        [1.905, 0.226],\n",
       "        [1.881, 0.218],\n",
       "        [1.81 , 0.218],\n",
       "        [1.786, 0.226],\n",
       "        [1.5  , 0.226],\n",
       "        [1.476, 0.218],\n",
       "        [1.452, 0.218],\n",
       "        [1.429, 0.226],\n",
       "        [1.095, 0.226],\n",
       "        [1.071, 0.218],\n",
       "        [1.048, 0.218],\n",
       "        [1.024, 0.211],\n",
       "        [0.69 , 0.211],\n",
       "        [0.667, 0.203],\n",
       "        [0.476, 0.203],\n",
       "        [0.452, 0.195],\n",
       "        [0.405, 0.195],\n",
       "        [0.381, 0.188],\n",
       "        [0.357, 0.188],\n",
       "        [0.31 , 0.173],\n",
       "        [0.286, 0.173],\n",
       "        [0.238, 0.158],\n",
       "        [0.214, 0.158],\n",
       "        [0.143, 0.135],\n",
       "        [0.119, 0.135],\n",
       "        [0.095, 0.128],\n",
       "        [0.071, 0.128],\n",
       "        [0.048, 0.12 ]]),\n",
       " '0.994')"
      ]
     },
     "execution_count": 2,
     "metadata": {},
     "output_type": "execute_result"
    }
   ],
   "source": [
    "SMILE.predict(0.2,0.2)"
   ]
  },
  {
   "cell_type": "code",
   "execution_count": 3,
   "metadata": {},
   "outputs": [
    {
     "data": {
      "text/plain": [
       "{'xpol': '0.0,0.0,3.143,3.143,3.119,3.095,3.0,2.976,2.952,2.905,2.905,2.881,2.881,2.857,2.738,2.714,2.381,2.357,2.214,2.19,1.881,1.857,1.833,1.81,1.476,1.452,1.429,1.095,1.071,1.048,1.024,0.69,0.667,0.476,0.452,0.405,0.381,0.357,0.31,0.286,0.238,0.214,0.143,0.119,0.095',\n",
       " 'ypol': '0.128,0.308,0.308,0.188,0.188,0.18,0.18,0.188,0.188,0.203,0.211,0.218,0.226,0.233,0.233,0.226,0.226,0.233,0.233,0.226,0.226,0.218,0.218,0.226,0.226,0.218,0.226,0.226,0.218,0.218,0.211,0.211,0.203,0.203,0.195,0.195,0.188,0.188,0.173,0.173,0.158,0.158,0.135,0.135,0.128',\n",
       " 'sc': '0.971',\n",
       " 'msg': 'success'}"
      ]
     },
     "execution_count": 3,
     "metadata": {},
     "output_type": "execute_result"
    }
   ],
   "source": [
    "pol,sc=SMILE.predict(0.2,0.3)\n",
    "xpol=','.join([str(i) for i in pol[:,0]])\n",
    "ypol=','.join([str(i) for i in pol[:,1]])\n",
    "a={'xpol':xpol, 'ypol':ypol,'sc':sc, 'msg':'success'}\n",
    "a"
   ]
  },
  {
   "cell_type": "code",
   "execution_count": 7,
   "metadata": {},
   "outputs": [
    {
     "data": {
      "text/plain": [
       "[[0.0, 0.128],\n",
       " [0.0, 0.308],\n",
       " [3.143, 0.308],\n",
       " [3.143, 0.188],\n",
       " [3.119, 0.188],\n",
       " [3.095, 0.18],\n",
       " [3.0, 0.18],\n",
       " [2.976, 0.188],\n",
       " [2.952, 0.188],\n",
       " [2.905, 0.203],\n",
       " [2.905, 0.211],\n",
       " [2.881, 0.218],\n",
       " [2.881, 0.226],\n",
       " [2.857, 0.233],\n",
       " [2.738, 0.233],\n",
       " [2.714, 0.226],\n",
       " [2.381, 0.226],\n",
       " [2.357, 0.233],\n",
       " [2.214, 0.233],\n",
       " [2.19, 0.226],\n",
       " [1.881, 0.226],\n",
       " [1.857, 0.218],\n",
       " [1.833, 0.218],\n",
       " [1.81, 0.226],\n",
       " [1.476, 0.226],\n",
       " [1.452, 0.218],\n",
       " [1.429, 0.226],\n",
       " [1.095, 0.226],\n",
       " [1.071, 0.218],\n",
       " [1.048, 0.218],\n",
       " [1.024, 0.211],\n",
       " [0.69, 0.211],\n",
       " [0.667, 0.203],\n",
       " [0.476, 0.203],\n",
       " [0.452, 0.195],\n",
       " [0.405, 0.195],\n",
       " [0.381, 0.188],\n",
       " [0.357, 0.188],\n",
       " [0.31, 0.173],\n",
       " [0.286, 0.173],\n",
       " [0.238, 0.158],\n",
       " [0.214, 0.158],\n",
       " [0.143, 0.135],\n",
       " [0.119, 0.135],\n",
       " [0.095, 0.128]]"
      ]
     },
     "execution_count": 7,
     "metadata": {},
     "output_type": "execute_result"
    }
   ],
   "source": [
    "pol[:]"
   ]
  },
  {
   "cell_type": "code",
   "execution_count": null,
   "metadata": {},
   "outputs": [],
   "source": []
  }
 ],
 "metadata": {
  "kernelspec": {
   "display_name": "coding",
   "language": "python",
   "name": "python3"
  },
  "language_info": {
   "codemirror_mode": {
    "name": "ipython",
    "version": 3
   },
   "file_extension": ".py",
   "mimetype": "text/x-python",
   "name": "python",
   "nbconvert_exporter": "python",
   "pygments_lexer": "ipython3",
   "version": "3.10.8"
  },
  "orig_nbformat": 4
 },
 "nbformat": 4,
 "nbformat_minor": 2
}
